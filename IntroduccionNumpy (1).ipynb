{
 "cells": [
  {
   "cell_type": "markdown",
   "id": "9d2481af-28ef-4afe-87c7-5d626abe48e5",
   "metadata": {},
   "source": [
    "#Importar Libreria "
   ]
  },
  {
   "cell_type": "code",
   "execution_count": 5,
   "id": "0430bc9c-abd6-4c49-a2a8-25e2d27c588c",
   "metadata": {},
   "outputs": [],
   "source": [
    "import numpy as np"
   ]
  },
  {
   "cell_type": "code",
   "execution_count": 9,
   "id": "245c57d1-94a0-4b06-a7e0-2c8181092d78",
   "metadata": {},
   "outputs": [],
   "source": [
    "import matplotlib.pyplot as plt"
   ]
  },
  {
   "cell_type": "markdown",
   "id": "cbf579e4-0b8d-41a9-9d6e-912a15c4ff64",
   "metadata": {},
   "source": [
    "#Ejercicio N2"
   ]
  },
  {
   "cell_type": "code",
   "execution_count": 11,
   "id": "7cba5849-e281-408d-bf91-d8fc7b8b749e",
   "metadata": {},
   "outputs": [],
   "source": [
    "lista=[31,28,29,19]"
   ]
  },
  {
   "cell_type": "markdown",
   "id": "4a38f45f-cc1e-4c3a-892f-587738839713",
   "metadata": {},
   "source": [
    "Crear un array utiliando la lista anterior\n"
   ]
  },
  {
   "cell_type": "code",
   "execution_count": 13,
   "id": "c1f777ca-b35a-4178-9219-4205e9d6f50f",
   "metadata": {},
   "outputs": [],
   "source": [
    "arr=np.array(lista)"
   ]
  },
  {
   "cell_type": "code",
   "execution_count": 15,
   "id": "fa14760c-1c59-4d58-8496-c0c8ec64031a",
   "metadata": {},
   "outputs": [
    {
     "data": {
      "text/plain": [
       "array([31, 28, 29, 19])"
      ]
     },
     "execution_count": 15,
     "metadata": {},
     "output_type": "execute_result"
    }
   ],
   "source": [
    "arr"
   ]
  },
  {
   "cell_type": "markdown",
   "id": "ba33d48f-f799-476a-a599-83c5cb00ddf0",
   "metadata": {},
   "source": [
    "Ejercicio N 3"
   ]
  },
  {
   "cell_type": "code",
   "execution_count": 17,
   "id": "1734450b-37de-448a-a449-d8a6d3020e5c",
   "metadata": {},
   "outputs": [],
   "source": [
    "lista_2d=[[2,3,4],\n",
    "          [3,4,5],\n",
    "          [6,7,9],\n",
    "          [4,5,6]]"
   ]
  },
  {
   "cell_type": "markdown",
   "id": "d8630f13-cf71-4656-9b3b-e35529b40575",
   "metadata": {},
   "source": [
    "Crear una narray utilizando la lista bidimensional anterior"
   ]
  },
  {
   "cell_type": "code",
   "execution_count": 19,
   "id": "e79347d2-3fa7-44e7-bc69-541dc2ec2eec",
   "metadata": {},
   "outputs": [],
   "source": [
    "arr = np.array(lista_2d)"
   ]
  },
  {
   "cell_type": "code",
   "execution_count": 21,
   "id": "b06ad45c-2427-441d-baaa-b0feeec0d333",
   "metadata": {},
   "outputs": [
    {
     "data": {
      "text/plain": [
       "array([[2, 3, 4],\n",
       "       [3, 4, 5],\n",
       "       [6, 7, 9],\n",
       "       [4, 5, 6]])"
      ]
     },
     "execution_count": 21,
     "metadata": {},
     "output_type": "execute_result"
    }
   ],
   "source": [
    "arr"
   ]
  },
  {
   "cell_type": "markdown",
   "id": "7366aa68-16ac-4038-9e97-9ef7569f5ab1",
   "metadata": {},
   "source": [
    "**Ejercicio N 4**\n",
    "----------------\n",
    "*Utilizar la propiedad shape para obtener la forma de ndarray anterior*"
   ]
  },
  {
   "cell_type": "code",
   "execution_count": 23,
   "id": "81a8f561-1e4f-4b38-86cb-c9866236ee4a",
   "metadata": {},
   "outputs": [
    {
     "data": {
      "text/plain": [
       "(4, 3)"
      ]
     },
     "execution_count": 23,
     "metadata": {},
     "output_type": "execute_result"
    }
   ],
   "source": [
    "arr.shape"
   ]
  },
  {
   "cell_type": "markdown",
   "id": "633f8b19-9cfd-4afd-96c4-1bf7670802ff",
   "metadata": {},
   "source": [
    "*Propiedad dtype para obtener el tipo de los datos en el ndarray anterior*"
   ]
  },
  {
   "cell_type": "code",
   "execution_count": 25,
   "id": "75863fb1-5ca7-40a2-a8d1-d84e2d0d636f",
   "metadata": {},
   "outputs": [
    {
     "data": {
      "text/plain": [
       "dtype('int32')"
      ]
     },
     "execution_count": 25,
     "metadata": {},
     "output_type": "execute_result"
    }
   ],
   "source": [
    "arr.dtype"
   ]
  },
  {
   "cell_type": "code",
   "execution_count": 27,
   "id": "75e39f61-1ad1-4b90-86f7-2bbc5f8df37d",
   "metadata": {},
   "outputs": [
    {
     "data": {
      "text/plain": [
       "12"
      ]
     },
     "execution_count": 27,
     "metadata": {},
     "output_type": "execute_result"
    }
   ],
   "source": [
    "arr.size"
   ]
  },
  {
   "cell_type": "code",
   "execution_count": 29,
   "id": "a2e1b978-6eeb-42f3-8fee-de977bd98661",
   "metadata": {},
   "outputs": [
    {
     "data": {
      "text/plain": [
       "2"
      ]
     },
     "execution_count": 29,
     "metadata": {},
     "output_type": "execute_result"
    }
   ],
   "source": [
    "arr.ndim"
   ]
  },
  {
   "cell_type": "markdown",
   "id": "1c8acf98-e892-4536-b6b9-73cbea86a8f5",
   "metadata": {},
   "source": [
    "**Ejercicio N 5**\n",
    "\n",
    "--------\n",
    "Crear un  ndarray utilizando la lista \"lista_2d\", el tipo de datos deber ser int 16"
   ]
  },
  {
   "cell_type": "code",
   "execution_count": 31,
   "id": "38ccfca8-0ceb-4921-83ed-6608e580f5b0",
   "metadata": {},
   "outputs": [],
   "source": [
    " arr =np.array(lista_2d, dtype= np.int16)"
   ]
  },
  {
   "cell_type": "code",
   "execution_count": 33,
   "id": "4b9dd5b8-b70e-4ffb-bfdf-c261cde1dd75",
   "metadata": {},
   "outputs": [
    {
     "data": {
      "text/plain": [
       "array([[2, 3, 4],\n",
       "       [3, 4, 5],\n",
       "       [6, 7, 9],\n",
       "       [4, 5, 6]], dtype=int16)"
      ]
     },
     "execution_count": 33,
     "metadata": {},
     "output_type": "execute_result"
    }
   ],
   "source": [
    "arr"
   ]
  },
  {
   "cell_type": "markdown",
   "id": "198aa821-5145-4dbb-9283-4129d421eff2",
   "metadata": {},
   "source": [
    "**Ejercicio 6**\n",
    "---\n",
    "Utilizar la funcion np.zeros para crar una ndarray con la forma 3x2"
   ]
  },
  {
   "cell_type": "code",
   "execution_count": 35,
   "id": "55cd653c-9d0f-4ba9-981d-83eacc0344b3",
   "metadata": {},
   "outputs": [
    {
     "data": {
      "text/plain": [
       "array([[0., 0.],\n",
       "       [0., 0.],\n",
       "       [0., 0.]])"
      ]
     },
     "execution_count": 35,
     "metadata": {},
     "output_type": "execute_result"
    }
   ],
   "source": [
    "np.zeros((3,2))"
   ]
  },
  {
   "cell_type": "markdown",
   "id": "b4dfd065-0bbd-4b9a-8648-30122c4ff9ea",
   "metadata": {},
   "source": [
    "Utilizar  la funcion npones para crar una ndarray con la forma 3x3"
   ]
  },
  {
   "cell_type": "code",
   "execution_count": 37,
   "id": "ecccb1a5-8c10-44aa-99c1-254e6c08504e",
   "metadata": {},
   "outputs": [
    {
     "data": {
      "text/plain": [
       "array([[1., 1., 1.],\n",
       "       [1., 1., 1.],\n",
       "       [1., 1., 1.]])"
      ]
     },
     "execution_count": 37,
     "metadata": {},
     "output_type": "execute_result"
    }
   ],
   "source": [
    "np.ones((3,3))"
   ]
  },
  {
   "cell_type": "markdown",
   "id": "30cf5abb-343c-4ad7-a10b-26ca64463d05",
   "metadata": {},
   "source": [
    "Utilizar la funcion np.empety para crear un ndarray con la forma 2x4"
   ]
  },
  {
   "cell_type": "code",
   "execution_count": 39,
   "id": "26bf6b10-b3d4-4f3a-87a5-f66d7a4101ac",
   "metadata": {},
   "outputs": [
    {
     "data": {
      "text/plain": [
       "array([[1.48219694e-323, 2.12199579e-314, 2.12199579e-314,\n",
       "        6.36598737e-314],\n",
       "       [8.48798316e-314, 4.24399158e-314, 4.24399158e-314,\n",
       "        2.12199579e-314]])"
      ]
     },
     "execution_count": 39,
     "metadata": {},
     "output_type": "execute_result"
    }
   ],
   "source": [
    "np.empty((2,4))"
   ]
  },
  {
   "cell_type": "markdown",
   "id": "1377610f-f410-437d-9e76-7d3f4a112503",
   "metadata": {},
   "source": [
    "**Ejercicio N7**\n",
    "-\n",
    "Crer un ndarray de 1 dimension con los valores del 0 al 9"
   ]
  },
  {
   "cell_type": "code",
   "execution_count": 41,
   "id": "42a2102f-2dca-4949-8902-5b8b3aae99d8",
   "metadata": {},
   "outputs": [
    {
     "data": {
      "text/plain": [
       "array([0, 1, 2, 3, 4, 5, 6, 7, 8, 9])"
      ]
     },
     "execution_count": 41,
     "metadata": {},
     "output_type": "execute_result"
    }
   ],
   "source": [
    "np.arange(10)"
   ]
  },
  {
   "cell_type": "markdown",
   "id": "aa91ad6b-449d-4193-8e06-dfdadf8518a2",
   "metadata": {},
   "source": [
    "Crear un ndarray de 2 dimensiones con la forma 2x5 los valores deben ser del 0 al 9 , de 2 en 2"
   ]
  },
  {
   "cell_type": "code",
   "execution_count": 43,
   "id": "13257cc3-cc73-431a-8d53-964fa38a8ad3",
   "metadata": {},
   "outputs": [
    {
     "data": {
      "text/plain": [
       "array([[0, 1, 2, 3, 4],\n",
       "       [5, 6, 7, 8, 9]])"
      ]
     },
     "execution_count": 43,
     "metadata": {},
     "output_type": "execute_result"
    }
   ],
   "source": [
    "np.arange(10).reshape(2,5)"
   ]
  },
  {
   "cell_type": "markdown",
   "id": "eae7084e-d69e-4909-af5c-d36d9b9620f8",
   "metadata": {},
   "source": [
    "**Ejercicio 8**\n",
    "-\n",
    "Utilizar np.arange para crear un ndarray con los valores del 10 al 20 debe ir de 2 en 2"
   ]
  },
  {
   "cell_type": "code",
   "execution_count": 45,
   "id": "26f016b6-fdaf-4f11-b203-be6c98568c48",
   "metadata": {},
   "outputs": [
    {
     "data": {
      "text/plain": [
       "array([10, 12, 14, 16, 18, 20])"
      ]
     },
     "execution_count": 45,
     "metadata": {},
     "output_type": "execute_result"
    }
   ],
   "source": [
    "np.arange(10,21,2)\n"
   ]
  },
  {
   "cell_type": "markdown",
   "id": "8a931f29-dccb-4af0-a087-7bd30d23ce73",
   "metadata": {},
   "source": [
    "**Ejercicio 9**\n",
    "-\n",
    "  Utilizar np.linspace para crear un ndarray con los valores enteros  entre el 10 al 20"
   ]
  },
  {
   "cell_type": "code",
   "execution_count": 47,
   "id": "4045deba-8462-48db-ab6b-be19cf3cb404",
   "metadata": {},
   "outputs": [
    {
     "data": {
      "text/plain": [
       "array([10., 11., 12., 13., 14., 15., 16., 17., 18., 19., 20.])"
      ]
     },
     "execution_count": 47,
     "metadata": {},
     "output_type": "execute_result"
    }
   ],
   "source": [
    "np.linspace(10,20,11)"
   ]
  },
  {
   "cell_type": "markdown",
   "id": "9cc9e2da-039e-4aaa-bf9c-5d9ff7f6ccf0",
   "metadata": {},
   "source": [
    "**Ejercicio 10**\n",
    "-\n",
    "Utilizar n.linspace para crear un ndarray con 100 numeros entre el 0 y 2(pi)"
   ]
  },
  {
   "cell_type": "code",
   "execution_count": 49,
   "id": "254b9d31-db8e-412a-901c-33f4e51906de",
   "metadata": {},
   "outputs": [],
   "source": [
    "from numpy import pi\n",
    "rad= np.linspace(0.2*pi,100)"
   ]
  },
  {
   "cell_type": "code",
   "execution_count": 51,
   "id": "1aa186c7-98a9-4a20-9aa4-c9d99ecbdaa1",
   "metadata": {},
   "outputs": [
    {
     "data": {
      "text/plain": [
       "array([  0.62831853,   2.65631203,   4.68430553,   6.71229903,\n",
       "         8.74029253,  10.76828603,  12.79627953,  14.82427303,\n",
       "        16.85226653,  18.88026003,  20.90825352,  22.93624702,\n",
       "        24.96424052,  26.99223402,  29.02022752,  31.04822102,\n",
       "        33.07621452,  35.10420802,  37.13220152,  39.16019502,\n",
       "        41.18818852,  43.21618202,  45.24417552,  47.27216902,\n",
       "        49.30016252,  51.32815602,  53.35614951,  55.38414301,\n",
       "        57.41213651,  59.44013001,  61.46812351,  63.49611701,\n",
       "        65.52411051,  67.55210401,  69.58009751,  71.60809101,\n",
       "        73.63608451,  75.66407801,  77.69207151,  79.72006501,\n",
       "        81.74805851,  83.77605201,  85.8040455 ,  87.832039  ,\n",
       "        89.8600325 ,  91.888026  ,  93.9160195 ,  95.944013  ,\n",
       "        97.9720065 , 100.        ])"
      ]
     },
     "execution_count": 51,
     "metadata": {},
     "output_type": "execute_result"
    }
   ],
   "source": [
    "rad\n"
   ]
  },
  {
   "cell_type": "markdown",
   "id": "70e96b11-593b-46fd-a998-aaf1f698f2dd",
   "metadata": {},
   "source": [
    "Utilizar np.sin  y np.cos para obtener los valores de seno y coseno del array anterior"
   ]
  },
  {
   "cell_type": "code",
   "execution_count": 53,
   "id": "802126d1-706f-4bb2-91ad-7473aa80900e",
   "metadata": {},
   "outputs": [],
   "source": [
    "seno=np.sin(rad)\n",
    "coseno=np.cos(rad)"
   ]
  },
  {
   "cell_type": "markdown",
   "id": "dd39c0ff-7ff8-4131-bbd4-73bbc630a217",
   "metadata": {},
   "source": [
    "Utilizar plit.plot para graficar un circulo con los datos de seno y coseno"
   ]
  },
  {
   "cell_type": "code",
   "execution_count": 55,
   "id": "0fa27ba3-ce30-4499-883f-9f6914bd8862",
   "metadata": {},
   "outputs": [
    {
     "data": {
      "image/png": "[encoded data removed]",
      "text/plain": [
       "<Figure size 640x480 with 1 Axes>"
      ]
     },
     "metadata": {},
     "output_type": "display_data"
    }
   ],
   "source": [
    "plt.plot(seno,coseno)\n",
    "plt.show()"
   ]
  },
  {
   "cell_type": "markdown",
   "id": "bafe46ac-99ed-45de-9bf5-4cf072aa9f4a",
   "metadata": {},
   "source": [
    "**Ejercicio 11**\n",
    "-\n",
    "Utilizar plt.plot para graficar los valores de seno y conse por separado:"
   ]
  },
  {
   "cell_type": "code",
   "execution_count": 61,
   "id": "a0af7f55-e5d0-475b-9991-677a2d13a4dd",
   "metadata": {},
   "outputs": [
    {
     "data": {
      "text/plain": [
       "[<matplotlib.lines.Line2D at 0x1935dfa1850>]"
      ]
     },
     "execution_count": 61,
     "metadata": {},
     "output_type": "execute_result"
    },
    {
     "data": {
      "image/png": "[encoded data removed]",
      "text/plain": [
       "<Figure size 640x480 with 1 Axes>"
      ]
     },
     "metadata": {},
     "output_type": "display_data"
    }
   ],
   "source": [
    "plt.plot(rad,seno)\n",
    "plt.plot(rad,seno)"
   ]
  },
  {
   "cell_type": "markdown",
   "id": "05594182-03b7-4086-b583-87a9155c773c",
   "metadata": {},
   "source": [
    "**Ejercicio 12**"
   ]
  },
  {
   "cell_type": "code",
   "execution_count": 64,
   "id": "6521d536-b750-47af-95e6-e57ca7e9798c",
   "metadata": {},
   "outputs": [
    {
     "name": "stdout",
     "output_type": "stream",
     "text": [
      "[10. 12. 14. 16. 18. 20.] [ 5.  9. 13. 17. 21. 25.]\n"
     ]
    }
   ],
   "source": [
    "a =np.linspace(10,20,6)\n",
    "b=np.linspace(5,25,6)\n",
    "print(a,b)"
   ]
  },
  {
   "cell_type": "markdown",
   "id": "9f1fceb1-df06-4086-abd1-3ed3d300d5bd",
   "metadata": {},
   "source": [
    "Sumar los valores de ndarray  a y b"
   ]
  },
  {
   "cell_type": "code",
   "execution_count": 69,
   "id": "fa7cdd45-2d3e-49e5-85dd-ac34680c374e",
   "metadata": {},
   "outputs": [
    {
     "data": {
      "text/plain": [
       "array([15., 21., 27., 33., 39., 45.])"
      ]
     },
     "execution_count": 69,
     "metadata": {},
     "output_type": "execute_result"
    }
   ],
   "source": [
    "a+b"
   ]
  },
  {
   "cell_type": "markdown",
   "id": "87d9bafd-c590-4f3c-9645-66ba346d1878",
   "metadata": {},
   "source": [
    "Unir los ndarray  C"
   ]
  },
  {
   "cell_type": "code",
   "execution_count": 75,
   "id": "8fda2c09-da3b-4dd1-bb19-1793ec9dcfd1",
   "metadata": {},
   "outputs": [],
   "source": [
    "c= np.concatenate((a,b))"
   ]
  },
  {
   "cell_type": "code",
   "execution_count": 77,
   "id": "1ecea1c6-5a39-4670-a9f8-c671037fab24",
   "metadata": {},
   "outputs": [
    {
     "data": {
      "text/plain": [
       "array([10., 12., 14., 16., 18., 20.,  5.,  9., 13., 17., 21., 25.])"
      ]
     },
     "execution_count": 77,
     "metadata": {},
     "output_type": "execute_result"
    }
   ],
   "source": [
    "c"
   ]
  },
  {
   "cell_type": "raw",
   "id": "bcaa8f90-f9eb-4953-a9b1-8ab2a9a6b719",
   "metadata": {},
   "source": [
    "Ordenar los valores del ndarray C"
   ]
  },
  {
   "cell_type": "code",
   "execution_count": 81,
   "id": "5e4f02bc-1f0a-43ca-97e7-a75760e1c405",
   "metadata": {},
   "outputs": [],
   "source": [
    "c.sort()"
   ]
  },
  {
   "cell_type": "code",
   "execution_count": 83,
   "id": "9f3e9248-4c18-4b7a-9e7d-9d96ce1266a1",
   "metadata": {},
   "outputs": [
    {
     "data": {
      "text/plain": [
       "array([ 5.,  9., 10., 12., 13., 14., 16., 17., 18., 20., 21., 25.])"
      ]
     },
     "execution_count": 83,
     "metadata": {},
     "output_type": "execute_result"
    }
   ],
   "source": [
    "c"
   ]
  },
  {
   "cell_type": "markdown",
   "id": "b0b0bac0-f03e-4b54-ae13-baf52dbff1fd",
   "metadata": {},
   "source": [
    "**Ejercicio 13**\n",
    "-\n",
    "Utilizar rg.random para gener un ndarray de 1000 numeros aletarorios en 0 y 1"
   ]
  },
  {
   "cell_type": "code",
   "execution_count": 113,
   "id": "0eec3cdf-4ae1-4673-8c12-0299f72e80ed",
   "metadata": {},
   "outputs": [],
   "source": [
    "rg = np.random.default_rng(2)"
   ]
  },
  {
   "cell_type": "code",
   "execution_count": 115,
   "id": "ffad0e9d-f8a8-4353-97cb-975a4f64edce",
   "metadata": {},
   "outputs": [],
   "source": [
    "aleatorio= rg.random(1000)"
   ]
  },
  {
   "cell_type": "code",
   "execution_count": 117,
   "id": "a25d5f87-7e21-4fc7-ac8b-4fa4422b4031",
   "metadata": {},
   "outputs": [
    {
     "data": {
      "image/png": "[encoded data removed]",
      "text/plain": [
       "<Figure size 640x480 with 1 Axes>"
      ]
     },
     "metadata": {},
     "output_type": "display_data"
    }
   ],
   "source": [
    "plt.hist(aleatorio,bins =100)\n",
    "plt.show()"
   ]
  },
  {
   "cell_type": "markdown",
   "id": "449fff0e-4284-453b-88f6-03dbfa972fed",
   "metadata": {},
   "source": [
    "**Ejercicio 14**\n",
    "\n",
    "-\n",
    "Utlizar rg.normal para generar 10000 vaores alegorios que sigan una disturcion normal"
   ]
  },
  {
   "cell_type": "code",
   "execution_count": 123,
   "id": "d25cc234-70dd-41f2-a935-fceca5e4a450",
   "metadata": {},
   "outputs": [
    {
     "data": {
      "text/plain": [
       "array([ 3.50310779,  8.12175249,  8.99993164, ...,  9.04241964,\n",
       "       11.36542087, 12.06881424])"
      ]
     },
     "execution_count": 123,
     "metadata": {},
     "output_type": "execute_result"
    }
   ],
   "source": [
    "normal = rg.normal(10,5,100000)\n",
    "normal"
   ]
  },
  {
   "cell_type": "code",
   "execution_count": 125,
   "id": "78e3adc6-6e62-4cac-8629-1df5dec1b3ed",
   "metadata": {},
   "outputs": [
    {
     "data": {
      "image/png": "[encoded data removed]",
      "text/plain": [
       "<Figure size 640x480 with 1 Axes>"
      ]
     },
     "metadata": {},
     "output_type": "display_data"
    }
   ],
   "source": [
    "plt.hist(normal,bins=1000)\n",
    "plt.show()"
   ]
  },
  {
   "cell_type": "markdown",
   "id": "3c25238a-8a20-4d88-8704-b966d9e036e9",
   "metadata": {},
   "source": [
    "**Ejercicio 15**\n",
    "-\n",
    "Utilizra  rg.integer para generar 2000 numeros aleatorios entre el 0 y el 19"
   ]
  },
  {
   "cell_type": "code",
   "execution_count": 129,
   "id": "e07c64e6-b219-47ba-b66b-4bfc0aeba9db",
   "metadata": {},
   "outputs": [],
   "source": [
    "enteros = rg.integers(20,size=2000)"
   ]
  },
  {
   "cell_type": "code",
   "execution_count": 131,
   "id": "8b4c9159-2dd7-4410-b896-96cba509946b",
   "metadata": {},
   "outputs": [
    {
     "data": {
      "text/plain": [
       "array([ 8,  9,  9, ..., 10, 16, 14], dtype=int64)"
      ]
     },
     "execution_count": 131,
     "metadata": {},
     "output_type": "execute_result"
    }
   ],
   "source": [
    "enteros\n"
   ]
  },
  {
   "cell_type": "markdown",
   "id": "c4f8143d-6663-4090-a6e0-d938654a4523",
   "metadata": {},
   "source": [
    "Ejercicio  16\n",
    "-\n",
    "Utilizar  rg.choice para elegir 10 numeros aleatorios sin repetir entre el 0 y el 25"
   ]
  },
  {
   "cell_type": "code",
   "execution_count": 136,
   "id": "31e75ae6-d6cd-47b6-8dfc-5794350ebf44",
   "metadata": {},
   "outputs": [
    {
     "data": {
      "text/plain": [
       "array([ 1, 13, 23, 25, 21, 19, 24,  7,  3, 20], dtype=int64)"
      ]
     },
     "execution_count": 136,
     "metadata": {},
     "output_type": "execute_result"
    }
   ],
   "source": [
    "rg.choice(26,size=10,replace=False)"
   ]
  },
  {
   "cell_type": "markdown",
   "id": "331d9211-6cae-4f95-afe1-3b2013b1f605",
   "metadata": {},
   "source": [
    "**Ejercicio 17**\n"
   ]
  },
  {
   "cell_type": "code",
   "execution_count": 143,
   "id": "e0ac4854-4fa4-46bb-9c4b-5d20c4a31dad",
   "metadata": {},
   "outputs": [
    {
     "data": {
      "text/plain": [
       "array([10,  1,  1, 13, 17,  7, 18, 12], dtype=int64)"
      ]
     },
     "execution_count": 143,
     "metadata": {},
     "output_type": "execute_result"
    }
   ],
   "source": [
    "estadisticos = rg.integers(20,size=8)\n",
    "estadisticos"
   ]
  },
  {
   "cell_type": "markdown",
   "id": "a7b0afc5-f7b3-4cf0-9488-cbc518030a46",
   "metadata": {},
   "source": [
    "Utilizar la funcion  min() para obetener el valor minimo del ndarray \"estaditicos\""
   ]
  },
  {
   "cell_type": "code",
   "execution_count": 146,
   "id": "73b61330-92ae-47d6-ac89-0bef0649775b",
   "metadata": {},
   "outputs": [
    {
     "data": {
      "text/plain": [
       "1"
      ]
     },
     "execution_count": 146,
     "metadata": {},
     "output_type": "execute_result"
    }
   ],
   "source": [
    "estadisticos.min()"
   ]
  },
  {
   "cell_type": "markdown",
   "id": "e8e454f7-76eb-459e-9ab0-6e88ff299c38",
   "metadata": {},
   "source": [
    "Utilizar la funcion  max() para obetener el valor max del ndarray \"estaditicos\""
   ]
  },
  {
   "cell_type": "code",
   "execution_count": 148,
   "id": "4c2e1251-4b8d-47a5-ad49-b81bcbe07bc6",
   "metadata": {},
   "outputs": [
    {
     "data": {
      "text/plain": [
       "18"
      ]
     },
     "execution_count": 148,
     "metadata": {},
     "output_type": "execute_result"
    }
   ],
   "source": [
    "estadisticos.max()"
   ]
  },
  {
   "cell_type": "markdown",
   "id": "73b26168-fb59-4db5-9f30-3cf107cfa1b8",
   "metadata": {},
   "source": [
    "Utilizar el valor mean() para obtener el valor promedio del ndarray \"estadisticos\""
   ]
  },
  {
   "cell_type": "code",
   "execution_count": 150,
   "id": "c814f21e-3153-4fbf-a320-cc9537c84aff",
   "metadata": {},
   "outputs": [
    {
     "data": {
      "text/plain": [
       "9.875"
      ]
     },
     "execution_count": 150,
     "metadata": {},
     "output_type": "execute_result"
    }
   ],
   "source": [
    "estadisticos.mean()"
   ]
  },
  {
   "cell_type": "markdown",
   "id": "3f9b2bfd-760f-474d-90f6-ab8a1332fa40",
   "metadata": {},
   "source": [
    "Utilizar la funcion std() para obtener el valor de la desviacion estandar del ndarray \"estadisticos\""
   ]
  },
  {
   "cell_type": "code",
   "execution_count": 152,
   "id": "647689f8-e6b8-4bc1-87ab-295f0bcbfaca",
   "metadata": {},
   "outputs": [
    {
     "data": {
      "text/plain": [
       "6.091746465505603"
      ]
     },
     "execution_count": 152,
     "metadata": {},
     "output_type": "execute_result"
    }
   ],
   "source": [
    "estadisticos.std()"
   ]
  },
  {
   "cell_type": "markdown",
   "id": "2395e7f9-3f94-484b-9473-59e250fbb59e",
   "metadata": {},
   "source": [
    "Utilizar la funcion sum() para obtener la  el valor al sumar de toso los numeros del ndarray \"estadisticos\""
   ]
  },
  {
   "cell_type": "code",
   "execution_count": 154,
   "id": "36af449b-f24f-46fd-ac90-c1d4c721581c",
   "metadata": {},
   "outputs": [
    {
     "data": {
      "text/plain": [
       "79"
      ]
     },
     "execution_count": 154,
     "metadata": {},
     "output_type": "execute_result"
    }
   ],
   "source": [
    "estadisticos.sum()"
   ]
  },
  {
   "cell_type": "markdown",
   "id": "6f9f5913-627f-4f37-b286-2fa4dc95c5fd",
   "metadata": {},
   "source": [
    "**Ejercicio 18**"
   ]
  },
  {
   "cell_type": "code",
   "execution_count": 158,
   "id": "5dcf61ce-480e-4868-bef6-7a7aed1f5c07",
   "metadata": {},
   "outputs": [
    {
     "data": {
      "text/plain": [
       "array([[14,  0, 14,  7],\n",
       "       [12,  2, 17, 13],\n",
       "       [12,  6, 13,  3],\n",
       "       [18, 10, 19,  6],\n",
       "       [ 7,  8, 15, 17]], dtype=int64)"
      ]
     },
     "execution_count": 158,
     "metadata": {},
     "output_type": "execute_result"
    }
   ],
   "source": [
    "estadisticos_2d=rg.integers(20,size=(5,4))\n",
    "estadisticos_2d"
   ]
  },
  {
   "cell_type": "markdown",
   "id": "cac62311-8f8c-4dfc-8292-aa7644bebfb4",
   "metadata": {},
   "source": [
    "Utilizar la funcion min para obtener el valor minimo de cada columna en el ndarray \"estadisticos_2d\""
   ]
  },
  {
   "cell_type": "code",
   "execution_count": 161,
   "id": "8f6632b5-0956-4180-93e0-97e9dbced2af",
   "metadata": {},
   "outputs": [
    {
     "data": {
      "text/plain": [
       "array([ 7,  0, 13,  3], dtype=int64)"
      ]
     },
     "execution_count": 161,
     "metadata": {},
     "output_type": "execute_result"
    }
   ],
   "source": [
    "estadisticos_2d.min(axis=0)"
   ]
  },
  {
   "cell_type": "markdown",
   "id": "d4695efe-72b7-4506-b6fa-8ffb95778b03",
   "metadata": {},
   "source": [
    "Utilizar la funcion max() para obtener el valor maximo de cada una fila del ndarray \"estadisticos_2d\""
   ]
  },
  {
   "cell_type": "code",
   "execution_count": 164,
   "id": "2581a791-414d-433f-92f8-44697a2a5239",
   "metadata": {},
   "outputs": [
    {
     "data": {
      "text/plain": [
       "array([14, 17, 13, 19, 17], dtype=int64)"
      ]
     },
     "execution_count": 164,
     "metadata": {},
     "output_type": "execute_result"
    }
   ],
   "source": [
    "estadisticos_2d.max(axis=1)"
   ]
  },
  {
   "cell_type": "markdown",
   "id": "3d7ba82b-454d-48d4-bc69-780d4f2ee7b5",
   "metadata": {},
   "source": [
    "**Ejercicio 19**"
   ]
  },
  {
   "cell_type": "code",
   "execution_count": 167,
   "id": "824b3711-74ea-4349-a908-8b42ca145be3",
   "metadata": {},
   "outputs": [
    {
     "data": {
      "text/plain": [
       "array([[14,  0, 14,  7],\n",
       "       [12,  2, 17, 13],\n",
       "       [12,  6, 13,  3],\n",
       "       [18, 10, 19,  6],\n",
       "       [ 7,  8, 15, 17]], dtype=int64)"
      ]
     },
     "execution_count": 167,
     "metadata": {},
     "output_type": "execute_result"
    }
   ],
   "source": [
    "estadisticos_2d"
   ]
  },
  {
   "cell_type": "markdown",
   "id": "1c233519-a76f-431b-92e5-49196d363e13",
   "metadata": {},
   "source": [
    "Obtener los valores menos a 12 en el ndarray \"estadisticos_2d\""
   ]
  },
  {
   "cell_type": "code",
   "execution_count": 169,
   "id": "8233aaf0-d380-437e-988a-4bc11a9646e4",
   "metadata": {},
   "outputs": [
    {
     "data": {
      "text/plain": [
       "array([[False,  True, False,  True],\n",
       "       [False,  True, False, False],\n",
       "       [False,  True, False,  True],\n",
       "       [False,  True, False,  True],\n",
       "       [ True,  True, False, False]])"
      ]
     },
     "execution_count": 169,
     "metadata": {},
     "output_type": "execute_result"
    }
   ],
   "source": [
    "estadisticos_2d<12"
   ]
  },
  {
   "cell_type": "code",
   "execution_count": 171,
   "id": "0845d1b3-00bf-4ae0-998e-d3c012dc2b8d",
   "metadata": {},
   "outputs": [
    {
     "data": {
      "text/plain": [
       "array([ 0,  7,  2,  6,  3, 10,  6,  7,  8], dtype=int64)"
      ]
     },
     "execution_count": 171,
     "metadata": {},
     "output_type": "execute_result"
    }
   ],
   "source": [
    "estadisticos_2d[estadisticos_2d<12]"
   ]
  },
  {
   "cell_type": "markdown",
   "id": "8dbdee85-a807-40a1-8cd2-fc91157cea86",
   "metadata": {},
   "source": [
    "**Ejercicios 20**"
   ]
  },
  {
   "cell_type": "code",
   "execution_count": 182,
   "id": "71d9d6c8-066b-4716-8ab5-5c02b2d2a731",
   "metadata": {},
   "outputs": [
    {
     "name": "stdout",
     "output_type": "stream",
     "text": [
      "[[12  5  6]\n",
      " [ 7  4 12]\n",
      " [18  5 13]] \n",
      "\n",
      " [[ 4  4  2]\n",
      " [ 4 16 14]\n",
      " [15 15  1]]\n"
     ]
    }
   ],
   "source": [
    "np1 =rg.integers(20,size=(3,3))\n",
    "np2= rg.integers(20,size=(3,3))\n",
    "print(np1,\"\\n\\n\",np2)"
   ]
  },
  {
   "cell_type": "markdown",
   "id": "aa7534d4-56ee-45cf-8530-efb72e8db94c",
   "metadata": {},
   "source": [
    "Utilizar  np.vstack para unir los ndarray \"np1\" y \"np2\" verticalmente"
   ]
  },
  {
   "cell_type": "code",
   "execution_count": 184,
   "id": "e47dbe6a-35bf-441c-b696-f03b335d251c",
   "metadata": {},
   "outputs": [
    {
     "data": {
      "text/plain": [
       "array([[12,  5,  6],\n",
       "       [ 7,  4, 12],\n",
       "       [18,  5, 13],\n",
       "       [ 4,  4,  2],\n",
       "       [ 4, 16, 14],\n",
       "       [15, 15,  1]], dtype=int64)"
      ]
     },
     "execution_count": 184,
     "metadata": {},
     "output_type": "execute_result"
    }
   ],
   "source": [
    "np.vstack((np1,np2))"
   ]
  },
  {
   "cell_type": "markdown",
   "id": "94195f7c-c381-4166-b8d3-1948bc8e1b54",
   "metadata": {},
   "source": [
    "Utilizar np.hstack para unir los ndarray  \"np1\" y \"np2\" Horizontalmente"
   ]
  },
  {
   "cell_type": "code",
   "execution_count": 193,
   "id": "e4d49f87-02e1-434a-8de8-3a6e738b30cb",
   "metadata": {},
   "outputs": [
    {
     "data": {
      "text/plain": [
       "array([[12,  5,  6,  4,  4,  2],\n",
       "       [ 7,  4, 12,  4, 16, 14],\n",
       "       [18,  5, 13, 15, 15,  1]], dtype=int64)"
      ]
     },
     "execution_count": 193,
     "metadata": {},
     "output_type": "execute_result"
    }
   ],
   "source": [
    "np.hstack((np1,np2))"
   ]
  },
  {
   "cell_type": "markdown",
   "id": "06cf7f27-04dc-4d41-a500-0d6671717dec",
   "metadata": {},
   "source": [
    "**Ejercicio 21**\n"
   ]
  },
  {
   "cell_type": "code",
   "execution_count": 200,
   "id": "74de54d6-65d2-48aa-91e3-ba93b4ff4a79",
   "metadata": {},
   "outputs": [
    {
     "data": {
      "text/plain": [
       "array([11, 19,  4,  5, 15, 17, 16, 15, 18, 12], dtype=int64)"
      ]
     },
     "execution_count": 200,
     "metadata": {},
     "output_type": "execute_result"
    }
   ],
   "source": [
    "enteros= rg.integers(20,size=(10))\n",
    "enteros"
   ]
  },
  {
   "cell_type": "markdown",
   "id": "4a6cfdf6-e95d-4c54-a396-d4b360c21305",
   "metadata": {},
   "source": [
    "Seleccionar los primero 6 valores del ndarray enteros"
   ]
  },
  {
   "cell_type": "code",
   "execution_count": 202,
   "id": "e4e74be0-17d6-4bef-8156-5b1a32084842",
   "metadata": {},
   "outputs": [
    {
     "data": {
      "text/plain": [
       "array([11, 19,  4,  5, 15, 17], dtype=int64)"
      ]
     },
     "execution_count": 202,
     "metadata": {},
     "output_type": "execute_result"
    }
   ],
   "source": [
    "enteros[0:6]"
   ]
  },
  {
   "cell_type": "markdown",
   "id": "ade92e31-5874-47a2-a824-4d6d89fc9e29",
   "metadata": {},
   "source": [
    "Seleccionar los valores en la posicion 0.2 a 4 del ndarray enteros"
   ]
  },
  {
   "cell_type": "code",
   "execution_count": 204,
   "id": "a17ff7fa-f4bf-4de6-98ca-64719027e87d",
   "metadata": {},
   "outputs": [
    {
     "data": {
      "text/plain": [
       "array([11,  4, 15], dtype=int64)"
      ]
     },
     "execution_count": 204,
     "metadata": {},
     "output_type": "execute_result"
    }
   ],
   "source": [
    "enteros[0:6:2]"
   ]
  },
  {
   "cell_type": "markdown",
   "id": "fed9622c-8298-4255-82f4-9174039be8d1",
   "metadata": {},
   "source": [
    "seleccionar todos los valores con un indice par en el ndarray \"enteros\" (0,2,4,...)"
   ]
  },
  {
   "cell_type": "code",
   "execution_count": 208,
   "id": "4907b18e-b616-445b-972f-38671c4d0384",
   "metadata": {},
   "outputs": [
    {
     "data": {
      "text/plain": [
       "array([11,  4, 15, 16, 18], dtype=int64)"
      ]
     },
     "execution_count": 208,
     "metadata": {},
     "output_type": "execute_result"
    }
   ],
   "source": [
    "enteros[::2]"
   ]
  },
  {
   "cell_type": "markdown",
   "id": "aad903a5-1108-4f8c-8f7b-ff5808d330ed",
   "metadata": {},
   "source": [
    "**Ejercicio 22**"
   ]
  },
  {
   "cell_type": "code",
   "execution_count": 215,
   "id": "5266f7b8-f6fc-43b9-bc12-63f2c6062f94",
   "metadata": {},
   "outputs": [
    {
     "data": {
      "text/plain": [
       "array([[ 0, 10, 11, 11,  1],\n",
       "       [ 4, 14,  0,  8,  6],\n",
       "       [19,  1, 18,  1, 14],\n",
       "       [16, 15, 11, 17,  7],\n",
       "       [12, 11,  2,  2,  2],\n",
       "       [ 3, 18, 12, 17, 18],\n",
       "       [11, 10,  0,  2, 11],\n",
       "       [ 7,  7,  9,  4, 18]], dtype=int64)"
      ]
     },
     "execution_count": 215,
     "metadata": {},
     "output_type": "execute_result"
    }
   ],
   "source": [
    "enteros_2d=rg.integers(20,size=(8,5))\n",
    "enteros_2d"
   ]
  },
  {
   "cell_type": "markdown",
   "id": "7b546aaa-eb22-429a-8c28-a3fdd77f17d6",
   "metadata": {},
   "source": [
    "Seleccionar el cuarto valor en el segundo array de enteros_2d"
   ]
  },
  {
   "cell_type": "code",
   "execution_count": 218,
   "id": "c51a9fb4-f04a-4463-9179-720c4bc173c6",
   "metadata": {},
   "outputs": [
    {
     "data": {
      "text/plain": [
       "8"
      ]
     },
     "execution_count": 218,
     "metadata": {},
     "output_type": "execute_result"
    }
   ],
   "source": [
    "enteros_2d[1,3]"
   ]
  },
  {
   "cell_type": "markdown",
   "id": "00a941d7-5e13-4e8b-9128-e74cb53e4af6",
   "metadata": {},
   "source": [
    "Seleccionar el segundo valor en los array con indice 3,4 y 5 de enteros 2d"
   ]
  },
  {
   "cell_type": "code",
   "execution_count": 221,
   "id": "ccaf07f6-558c-4aea-b396-5f2e49af07fa",
   "metadata": {},
   "outputs": [
    {
     "data": {
      "text/plain": [
       "array([15, 11, 18], dtype=int64)"
      ]
     },
     "execution_count": 221,
     "metadata": {},
     "output_type": "execute_result"
    }
   ],
   "source": [
    "enteros_2d[3:6,1]"
   ]
  },
  {
   "cell_type": "code",
   "execution_count": null,
   "id": "d423caa3-597a-4851-bda1-b972fa0f2e48",
   "metadata": {},
   "outputs": [],
   "source": [
    "seleccinar  los 2 primero s valores en el array con indice 4,5 y 6 de enteros_2d"
   ]
  },
  {
   "cell_type": "code",
   "execution_count": 223,
   "id": "4fd28fdc-2a2e-4aa5-9d9d-403adf5e19d7",
   "metadata": {},
   "outputs": [
    {
     "data": {
      "text/plain": [
       "array([[12, 11],\n",
       "       [ 3, 18],\n",
       "       [11, 10]], dtype=int64)"
      ]
     },
     "execution_count": 223,
     "metadata": {},
     "output_type": "execute_result"
    }
   ],
   "source": [
    "enteros_2d[4:7,0:2]"
   ]
  }
 ],
 "metadata": {
  "kernelspec": {
   "display_name": "Python 3 (ipykernel)",
   "language": "python",
   "name": "python3"
  },
  "language_info": {
   "codemirror_mode": {
    "name": "ipython",
    "version": 3
   },
   "file_extension": ".py",
   "mimetype": "text/x-python",
   "name": "python",
   "nbconvert_exporter": "python",
   "pygments_lexer": "ipython3",
   "version": "3.12.4"
  }
 },
 "nbformat": 4,
 "nbformat_minor": 5
}
